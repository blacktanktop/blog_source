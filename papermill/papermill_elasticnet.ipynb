{
 "cells": [
  {
   "cell_type": "code",
   "execution_count": 1,
   "metadata": {
    "tags": [
     "parameters"
    ]
   },
   "outputs": [],
   "source": [
    "#デフォルトの初期設定\n",
    "alpha=0.5\n",
    "l1_ratio=0.1"
   ]
  },
  {
   "cell_type": "code",
   "execution_count": 2,
   "metadata": {},
   "outputs": [],
   "source": [
    "import pandas as pd\n",
    "import numpy as np\n",
    "from sklearn.linear_model import ElasticNet\n",
    "from sklearn.datasets import load_boston"
   ]
  },
  {
   "cell_type": "code",
   "execution_count": 3,
   "metadata": {},
   "outputs": [
    {
     "name": "stdout",
     "output_type": "stream",
     "text": [
      "説明変数行列のサイズ：13\n",
      "被説明変数のサイズ：(506, 1)\n",
      "説明変数の変数の個数:13\n"
     ]
    }
   ],
   "source": [
    "dataset = load_boston()\n",
    "data_x = pd.DataFrame(dataset.data, columns=dataset.feature_names)\n",
    "data_y = pd.DataFrame(dataset.target, columns=['target'])\n",
    " \n",
    "print(\"説明変数行列のサイズ：{}\".format(data_x.shape[1]))\n",
    "print(\"被説明変数のサイズ：{}\".format(data_y.shape))\n",
    "print(\"説明変数の変数の個数:{}\".format(data_x.shape[1]))\n",
    "coef_n = data_x.shape[1]\n",
    "decimal_p = 3"
   ]
  },
  {
   "cell_type": "code",
   "execution_count": 4,
   "metadata": {},
   "outputs": [
    {
     "data": {
      "text/plain": [
       "array([-0.098,  0.055, -0.047,  0.246, -0.   ,  1.497,  0.012, -1.005,\n",
       "        0.327, -0.017, -0.818,  0.009, -0.719])"
      ]
     },
     "execution_count": 4,
     "metadata": {},
     "output_type": "execute_result"
    }
   ],
   "source": [
    "#ElasticNet\n",
    "elastic_net = ElasticNet(alpha=alpha, l1_ratio=l1_ratio).fit(data_x, data_y)\n",
    "elastic_net.coef_.round(decimal_p)"
   ]
  },
  {
   "cell_type": "code",
   "execution_count": 5,
   "metadata": {},
   "outputs": [
    {
     "data": {
      "text/plain": [
       "'./ElasticNet_boston_alpha_0.5_l1_ratio_0.1'"
      ]
     },
     "execution_count": 5,
     "metadata": {},
     "output_type": "execute_result"
    }
   ],
   "source": [
    "filename = \"./ElasticNet_boston_\" + \"alpha_\" + str(alpha) + \"_l1_ratio_\" + str(l1_ratio)\n",
    "filename"
   ]
  },
  {
   "cell_type": "code",
   "execution_count": 6,
   "metadata": {},
   "outputs": [],
   "source": [
    "np.savetxt(filename + '.csv',elastic_net.coef_.round(decimal_p) , delimiter=',')"
   ]
  }
 ],
 "metadata": {
  "celltoolbar": "Tags",
  "kernelspec": {
   "display_name": "Python 3",
   "language": "python",
   "name": "python3"
  },
  "language_info": {
   "codemirror_mode": {
    "name": "ipython",
    "version": 3
   },
   "file_extension": ".py",
   "mimetype": "text/x-python",
   "name": "python",
   "nbconvert_exporter": "python",
   "pygments_lexer": "ipython3",
   "version": "3.6.5"
  }
 },
 "nbformat": 4,
 "nbformat_minor": 2
}
