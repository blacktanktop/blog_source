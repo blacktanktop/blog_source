{
 "cells": [
  {
   "cell_type": "code",
   "execution_count": 1,
   "metadata": {
    "papermill": {
     "duration": 0.016737,
     "end_time": "2019-08-19T05:18:27.037447",
     "exception": false,
     "start_time": "2019-08-19T05:18:27.020710",
     "status": "completed"
    },
    "tags": [
     "parameters"
    ]
   },
   "outputs": [],
   "source": [
    "#デフォルトの初期設定\n",
    "alpha=0.5\n",
    "l1_ratio=0.1"
   ]
  },
  {
   "cell_type": "code",
   "execution_count": 2,
   "metadata": {
    "papermill": {
     "duration": 0.011771,
     "end_time": "2019-08-19T05:18:27.054451",
     "exception": false,
     "start_time": "2019-08-19T05:18:27.042680",
     "status": "completed"
    },
    "tags": [
     "injected-parameters"
    ]
   },
   "outputs": [],
   "source": [
    "# Parameters\n",
    "alpha = 0.6\n",
    "l1_ratio = 0.3\n"
   ]
  },
  {
   "cell_type": "code",
   "execution_count": 3,
   "metadata": {
    "papermill": {
     "duration": 0.824584,
     "end_time": "2019-08-19T05:18:27.908745",
     "exception": false,
     "start_time": "2019-08-19T05:18:27.084161",
     "status": "completed"
    },
    "tags": []
   },
   "outputs": [],
   "source": [
    "import pandas as pd\n",
    "import numpy as np\n",
    "from sklearn.linear_model import ElasticNet\n",
    "from sklearn.datasets import load_boston"
   ]
  },
  {
   "cell_type": "code",
   "execution_count": 4,
   "metadata": {
    "papermill": {
     "duration": 0.026213,
     "end_time": "2019-08-19T05:18:27.940238",
     "exception": false,
     "start_time": "2019-08-19T05:18:27.914025",
     "status": "completed"
    },
    "tags": []
   },
   "outputs": [
    {
     "name": "stdout",
     "output_type": "stream",
     "text": [
      "説明変数行列のサイズ：13\n",
      "被説明変数のサイズ：(506, 1)\n",
      "説明変数の変数の個数:13\n"
     ]
    }
   ],
   "source": [
    "dataset = load_boston()\n",
    "data_x = pd.DataFrame(dataset.data, columns=dataset.feature_names)\n",
    "data_y = pd.DataFrame(dataset.target, columns=['target'])\n",
    " \n",
    "print(\"説明変数行列のサイズ：{}\".format(data_x.shape[1]))\n",
    "print(\"被説明変数のサイズ：{}\".format(data_y.shape))\n",
    "print(\"説明変数の変数の個数:{}\".format(data_x.shape[1]))\n",
    "coef_n = data_x.shape[1]\n",
    "decimal_p = 3"
   ]
  },
  {
   "cell_type": "code",
   "execution_count": 5,
   "metadata": {
    "papermill": {
     "duration": 0.020013,
     "end_time": "2019-08-19T05:18:27.965594",
     "exception": false,
     "start_time": "2019-08-19T05:18:27.945581",
     "status": "completed"
    },
    "tags": []
   },
   "outputs": [
    {
     "data": {
      "text/plain": [
       "array([-0.094,  0.055, -0.036,  0.   , -0.   ,  1.406,  0.013, -0.953,\n",
       "        0.32 , -0.017, -0.805,  0.009, -0.727])"
      ]
     },
     "execution_count": 5,
     "metadata": {},
     "output_type": "execute_result"
    }
   ],
   "source": [
    "#ElasticNet\n",
    "elastic_net = ElasticNet(alpha=alpha, l1_ratio=l1_ratio).fit(data_x, data_y)\n",
    "elastic_net.coef_.round(decimal_p)"
   ]
  },
  {
   "cell_type": "code",
   "execution_count": 6,
   "metadata": {
    "papermill": {
     "duration": 0.019933,
     "end_time": "2019-08-19T05:18:27.079258",
     "exception": false,
     "start_time": "2019-08-19T05:18:27.059325",
     "status": "completed"
    },
    "tags": []
   },
   "outputs": [
    {
     "data": {
      "text/plain": [
       "'ElasticNet_boston_alpha_0.6_l1_ratio_0.3'"
      ]
     },
     "execution_count": 6,
     "metadata": {},
     "output_type": "execute_result"
    }
   ],
   "source": [
    "filename = \"ElasticNet_boston_\" + \"alpha_\" + str(alpha) + \"_l1_ratio_\" + str(l1_ratio)\n",
    "filename"
   ]
  },
  {
   "cell_type": "code",
   "execution_count": 7,
   "metadata": {
    "papermill": {
     "duration": 0.014196,
     "end_time": "2019-08-19T05:18:27.985328",
     "exception": false,
     "start_time": "2019-08-19T05:18:27.971132",
     "status": "completed"
    },
    "tags": []
   },
   "outputs": [],
   "source": [
    "np.savetxt(filename + '.csv',elastic_net.coef_.round(decimal_p) , delimiter=',')"
   ]
  }
 ],
 "metadata": {
  "celltoolbar": "Tags",
  "kernelspec": {
   "display_name": "Python 3",
   "language": "python",
   "name": "python3"
  },
  "language_info": {
   "codemirror_mode": {
    "name": "ipython",
    "version": 3
   },
   "file_extension": ".py",
   "mimetype": "text/x-python",
   "name": "python",
   "nbconvert_exporter": "python",
   "pygments_lexer": "ipython3",
   "version": "3.6.5"
  },
  "papermill": {
   "duration": 2.161032,
   "end_time": "2019-08-19T05:18:28.397254",
   "environment_variables": {},
   "exception": null,
   "input_path": "/home/t.kosugi/local/project/papermill/test/papermill_test.ipynb",
   "output_path": "/home/t.kosugi/local/project/papermill/test/output_0.6_0.3.ipynb",
   "parameters": {
    "alpha": 0.6,
    "l1_ratio": 0.3
   },
   "start_time": "2019-08-19T05:18:26.236222",
   "version": "1.0.1"
  }
 },
 "nbformat": 4,
 "nbformat_minor": 2
}
