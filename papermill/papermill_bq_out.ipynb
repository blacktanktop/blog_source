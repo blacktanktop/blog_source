{
 "cells": [
  {
   "cell_type": "code",
   "execution_count": null,
   "metadata": {
    "colab": {},
    "colab_type": "code",
    "id": "V-sDGi9cxbJ_",
    "papermill": {
     "duration": 1.207715,
     "end_time": "2019-08-23T05:40:17.305931",
     "exception": false,
     "start_time": "2019-08-23T05:40:16.098216",
     "status": "completed"
    },
    "tags": []
   },
   "outputs": [],
   "source": [
    "from google.cloud import bigquery\n",
    "import pandas as pd\n",
    "import datetime"
   ]
  },
  {
   "cell_type": "code",
   "execution_count": null,
   "metadata": {
    "papermill": {
     "duration": 0.016914,
     "end_time": "2019-08-23T05:40:17.445050",
     "exception": false,
     "start_time": "2019-08-23T05:40:17.428136",
     "status": "completed"
    },
    "tags": [
     "parameters"
    ]
   },
   "outputs": [],
   "source": [
    "seed = 1\n",
    "nowdate_str = str(datetime.date.today())\n",
    "parameter=\"[bigquery.ScalarQueryParameter('week', 'STRING', '2019-06-16')]\""
   ]
  },
  {
   "cell_type": "code",
   "execution_count": null,
   "metadata": {
    "papermill": {
     "duration": 0.017087,
     "end_time": "2019-08-23T05:40:17.471154",
     "exception": false,
     "start_time": "2019-08-23T05:40:17.454067",
     "status": "completed"
    },
    "tags": [
     "injected-parameters"
    ]
   },
   "outputs": [],
   "source": [
    "# Parameters\n",
    "parameter = \"[bigquery.ScalarQueryParameter('week', 'STRING', '2019-06-23')]\""
   ]
  },
  {
   "cell_type": "code",
   "execution_count": null,
   "metadata": {
    "papermill": {
     "duration": 0.016936,
     "end_time": "2019-08-23T05:40:17.497197",
     "exception": false,
     "start_time": "2019-08-23T05:40:17.480261",
     "status": "completed"
    },
    "tags": []
   },
   "outputs": [],
   "source": [
    "# 文字列で代入されているので評価する\n",
    "parameter=eval(parameter)"
   ]
  },
  {
   "cell_type": "code",
   "execution_count": null,
   "metadata": {
    "papermill": {
     "duration": 110.379946,
     "end_time": "2019-08-23T05:42:07.886147",
     "exception": false,
     "start_time": "2019-08-23T05:40:17.506201",
     "status": "completed"
    },
    "tags": []
   },
   "outputs": [],
   "source": [
    "client = bigquery.Client()\n",
    "sql = \"\"\"\n",
    "SELECT\n",
    "  *\n",
    "FROM\n",
    "  XXXXX\n",
    "WHERE TRUE\n",
    "  AND week = DATE(@week)\n",
    "\"\"\"\n",
    "query_config = bigquery.QueryJobConfig(\n",
    "    # このquery_parametersに\n",
    "    # [bigquery.ScalarQueryParameter('week', 'STRING', '2019-06-23')]をリストとして\n",
    "    # 評価したものを入れる必要がある\n",
    "    query_parameters=parameter\n",
    ")\n",
    "\n",
    "df = client.query(sql, job_config=query_config).to_dataframe()"
   ]
  }
 ],
 "metadata": {
  "celltoolbar": "Tags",
  "kernelspec": {
   "display_name": "Python 3",
   "language": "python",
   "name": "python3"
  },
  "language_info": {
   "codemirror_mode": {
    "name": "ipython",
    "version": 3
   },
   "file_extension": ".py",
   "mimetype": "text/x-python",
   "name": "python",
   "nbconvert_exporter": "python",
   "pygments_lexer": "ipython3",
   "version": "3.6.5"
  },
  "papermill": {
   "duration": 114.634687,
   "end_time": "2019-08-23T05:42:08.700514",
   "environment_variables": {},
   "exception": null,
   "input_path": "papermill_melty_bq_read.ipynb",
   "output_path": "papermill_melty_bq_read_out.ipynb",
   "parameters": {
    "parameter": "[bigquery.ScalarQueryParameter('week', 'STRING', '2019-06-23')]"
   },
   "start_time": "2019-08-23T05:40:14.065827",
   "version": "1.0.1"
  }
 },
 "nbformat": 4,
 "nbformat_minor": 2
}
